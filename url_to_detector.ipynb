{
 "cells": [
  {
   "cell_type": "markdown",
   "id": "1c689d62",
   "metadata": {},
   "source": [
    "# Check what the example code does in a megadetector env\n",
    "https://pypi.org/project/megadetector/"
   ]
  },
  {
   "cell_type": "code",
   "execution_count": null,
   "id": "f1e86eab",
   "metadata": {},
   "outputs": [],
   "source": [
    "# Single dependency library\n",
    "!pip install megadetector -Uqq"
   ]
  },
  {
   "cell_type": "code",
   "execution_count": 1,
   "id": "8c13d374",
   "metadata": {},
   "outputs": [
    {
     "name": "stdout",
     "output_type": "stream",
     "text": [
      "Downloading file orinoquia-thumb-web.jpg to C:\\Users\\mores\\AppData\\Local\\Temp\\megadetector\\url_utils\\httpsgithubcomagentmorrisMegaDetectorrawmainimagesorinoquiathumbwebjpg...done, 92831 bytes.\n",
      "Downloading file md_v5a.0.0.pt to C:\\Users\\mores\\AppData\\Local\\Temp\\megadetector_models\\md_v5a.0.0.pt...done, 280766885 bytes.\n",
      "Model v5a.0.0 available at C:\\Users\\mores\\AppData\\Local\\Temp\\megadetector_models\\md_v5a.0.0.pt\n",
      "Loading PT detector with compatibility mode classic\n"
     ]
    },
    {
     "name": "stderr",
     "output_type": "stream",
     "text": [
      "Fusing layers... \n",
      "Fusing layers... \n",
      "Model summary: 733 layers, 140054656 parameters, 0 gradients, 208.8 GFLOPs\n",
      "Model summary: 733 layers, 140054656 parameters, 0 gradients, 208.8 GFLOPs\n"
     ]
    },
    {
     "name": "stdout",
     "output_type": "stream",
     "text": [
      "Found 1 detections above threshold\n"
     ]
    }
   ],
   "source": [
    "from megadetector.utils import url_utils\n",
    "from megadetector.visualization import visualization_utils as vis_utils\n",
    "from megadetector.detection import run_detector\n",
    "\n",
    "# This is the image at the bottom of this page, it has one animal in it\n",
    "image_url = 'https://github.com/agentmorris/MegaDetector/raw/main/images/orinoquia-thumb-web.jpg'\n",
    "temporary_filename = url_utils.download_url(image_url)\n",
    "\n",
    "image = vis_utils.load_image(temporary_filename)\n",
    "\n",
    "# This will automatically download MDv5a; you can also specify a filename.\n",
    "model = run_detector.load_detector('MDV5A')\n",
    "\n",
    "result = model.generate_detections_one_image(image)\n",
    "\n",
    "detections_above_threshold = [d for d in result['detections'] if d['conf'] > 0.2]\n",
    "print('Found {} detections above threshold'.format(len(detections_above_threshold)))"
   ]
  }
 ],
 "metadata": {
  "kernelspec": {
   "display_name": "kaggle",
   "language": "python",
   "name": "python3"
  },
  "language_info": {
   "codemirror_mode": {
    "name": "ipython",
    "version": 3
   },
   "file_extension": ".py",
   "mimetype": "text/x-python",
   "name": "python",
   "nbconvert_exporter": "python",
   "pygments_lexer": "ipython3",
   "version": "3.12.9"
  }
 },
 "nbformat": 4,
 "nbformat_minor": 5
}
