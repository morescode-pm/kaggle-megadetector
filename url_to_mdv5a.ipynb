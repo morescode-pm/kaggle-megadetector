{
 "cells": [
  {
   "cell_type": "markdown",
   "id": "831e6db2",
   "metadata": {
    "papermill": {
     "duration": 0.002237,
     "end_time": "2025-06-23T15:28:44.582271",
     "exception": false,
     "start_time": "2025-06-23T15:28:44.580034",
     "status": "completed"
    },
    "tags": []
   },
   "source": [
    "# Example Notebook of Running 100 images through megadetector only\n",
    "https://pypi.org/project/megadetector/  \n",
    "\n",
    "The model is not any faster than running speciesnet as an ensemble.  \n",
    "This is more of a proof of concept for 'what if we ran MD only?'"
   ]
  },
  {
   "cell_type": "code",
   "execution_count": 1,
   "id": "2f72921d",
   "metadata": {
    "execution": {
     "iopub.execute_input": "2025-06-23T15:28:44.587116Z",
     "iopub.status.busy": "2025-06-23T15:28:44.586855Z",
     "iopub.status.idle": "2025-06-23T15:28:44.593708Z",
     "shell.execute_reply": "2025-06-23T15:28:44.593033Z"
    },
    "papermill": {
     "duration": 0.010444,
     "end_time": "2025-06-23T15:28:44.594728",
     "exception": false,
     "start_time": "2025-06-23T15:28:44.584284",
     "status": "completed"
    },
    "tags": []
   },
   "outputs": [
    {
     "name": "stdout",
     "output_type": "stream",
     "text": [
      "=== Warnings Ignored ===\n"
     ]
    }
   ],
   "source": [
    "# Hush ye annoyances\n",
    "import warnings\n",
    "warnings.filterwarnings('ignore')\n",
    "print(\"=== Warnings Ignored ===\")"
   ]
  },
  {
   "cell_type": "code",
   "execution_count": 2,
   "id": "26be56be",
   "metadata": {
    "execution": {
     "iopub.execute_input": "2025-06-23T15:28:44.599012Z",
     "iopub.status.busy": "2025-06-23T15:28:44.598787Z",
     "iopub.status.idle": "2025-06-23T15:30:51.387127Z",
     "shell.execute_reply": "2025-06-23T15:30:51.386210Z"
    },
    "papermill": {
     "duration": 126.793588,
     "end_time": "2025-06-23T15:30:51.390109",
     "exception": false,
     "start_time": "2025-06-23T15:28:44.596521",
     "status": "completed"
    },
    "tags": []
   },
   "outputs": [
    {
     "name": "stdout",
     "output_type": "stream",
     "text": [
      "=== MegaDetector Installed ===\n",
      "CPU times: user 1.37 s, sys: 396 ms, total: 1.76 s\n",
      "Wall time: 2min 6s\n"
     ]
    }
   ],
   "source": [
    "%%time\n",
    "# Single dependency library\n",
    "!pip install --quiet megadetector > /dev/null 2>&1 # Put thy annoyances elsewhere\n",
    "print(\"=== MegaDetector Installed ===\")"
   ]
  },
  {
   "cell_type": "code",
   "execution_count": 3,
   "id": "07e0b2ab",
   "metadata": {
    "execution": {
     "iopub.execute_input": "2025-06-23T15:30:51.395009Z",
     "iopub.status.busy": "2025-06-23T15:30:51.394757Z",
     "iopub.status.idle": "2025-06-23T15:30:53.835150Z",
     "shell.execute_reply": "2025-06-23T15:30:53.834429Z"
    },
    "papermill": {
     "duration": 2.444351,
     "end_time": "2025-06-23T15:30:53.836332",
     "exception": false,
     "start_time": "2025-06-23T15:30:51.391981",
     "status": "completed"
    },
    "tags": []
   },
   "outputs": [
    {
     "name": "stdout",
     "output_type": "stream",
     "text": [
      "=== Libraries Loaded ===\n"
     ]
    }
   ],
   "source": [
    "# Data Handling\n",
    "import pandas as pd\n",
    "import numpy as np\n",
    "\n",
    "# IO - getting files and images from MongoDB and S3\n",
    "from pymongo import MongoClient\n",
    "from kaggle_secrets import UserSecretsClient\n",
    "from pathlib import Path\n",
    "from tqdm import tqdm\n",
    "\n",
    "import os\n",
    "import re\n",
    "import shutil\n",
    "import json\n",
    "import time\n",
    "import requests\n",
    "\n",
    "# Image preprocessing and multithreading\n",
    "import cv2\n",
    "from concurrent.futures import ThreadPoolExecutor, as_completed\n",
    "\n",
    "# Megadetector\n",
    "from megadetector.utils import url_utils, path_utils\n",
    "from megadetector.visualization import visualization_utils as vis_utils\n",
    "from megadetector.detection.run_detector_batch import load_and_run_detector_batch, write_results_to_file\n",
    "\n",
    "# Pretty Views\n",
    "from IPython.display import display\n",
    "from IPython.display import JSON\n",
    "\n",
    "print(\"=== Libraries Loaded ===\")"
   ]
  },
  {
   "cell_type": "code",
   "execution_count": 4,
   "id": "ba47f49b",
   "metadata": {
    "execution": {
     "iopub.execute_input": "2025-06-23T15:30:53.841161Z",
     "iopub.status.busy": "2025-06-23T15:30:53.840829Z",
     "iopub.status.idle": "2025-06-23T15:30:55.160875Z",
     "shell.execute_reply": "2025-06-23T15:30:55.159916Z"
    },
    "papermill": {
     "duration": 1.323735,
     "end_time": "2025-06-23T15:30:55.162139",
     "exception": false,
     "start_time": "2025-06-23T15:30:53.838404",
     "status": "completed"
    },
    "tags": []
   },
   "outputs": [
    {
     "name": "stdout",
     "output_type": "stream",
     "text": [
      "Loaded 100 image URLs\n"
     ]
    }
   ],
   "source": [
    "# Get the stored mongo uri secret\n",
    "user_secrets = UserSecretsClient()\n",
    "mongo_uri = user_secrets.get_secret(\"MONGO_URI\")\n",
    "\n",
    "# Connect to the MongoDB client\n",
    "client = MongoClient(mongo_uri)\n",
    " \n",
    "# Access the database and collection\n",
    "db = client['test']\n",
    "collection = db['cameratrapmedias'] \n",
    " \n",
    "# Pull only documents with publicURL\n",
    "cursor = collection.find({'publicURL': {'$exists': True}}, {'_id': 0, 'publicURL': 1, 'mediaID': 1}).limit(100)\n",
    "df = pd.DataFrame(list(cursor))\n",
    "\n",
    "# deduplicate the publicURLs by using the mediaID\n",
    "df = df.drop_duplicates(subset=['mediaID'], keep='first')\n",
    "\n",
    "# Return to rows\n",
    "rows = df.to_dict(orient='records')\n",
    "print(f\"Loaded {len(rows)} image URLs\")"
   ]
  },
  {
   "cell_type": "code",
   "execution_count": 5,
   "id": "f22d87e6",
   "metadata": {
    "execution": {
     "iopub.execute_input": "2025-06-23T15:30:55.166970Z",
     "iopub.status.busy": "2025-06-23T15:30:55.166625Z",
     "iopub.status.idle": "2025-06-23T15:31:03.898686Z",
     "shell.execute_reply": "2025-06-23T15:31:03.897897Z"
    },
    "papermill": {
     "duration": 8.735759,
     "end_time": "2025-06-23T15:31:03.899871",
     "exception": false,
     "start_time": "2025-06-23T15:30:55.164112",
     "status": "completed"
    },
    "tags": []
   },
   "outputs": [
    {
     "name": "stderr",
     "output_type": "stream",
     "text": [
      "100%|██████████| 100/100 [00:08<00:00, 11.51it/s]"
     ]
    },
    {
     "name": "stdout",
     "output_type": "stream",
     "text": [
      "✅ Success: 100\n",
      "❌ Failed: 0\n",
      "CPU times: user 16.1 s, sys: 7.05 s, total: 23.2 s\n",
      "Wall time: 8.73 s\n"
     ]
    },
    {
     "name": "stderr",
     "output_type": "stream",
     "text": [
      "\n"
     ]
    }
   ],
   "source": [
    "%%time\n",
    "# planning to save all to working directory images with a resize\n",
    "image_dir = Path('images')\n",
    "image_dir.mkdir(parents=True, exist_ok=True)\n",
    "\n",
    "# Target Height\n",
    "TARGET_HEIGHT = 256\n",
    "\n",
    "# Resize Target\n",
    "def resize_keep_aspect_ratio(image, target_height):\n",
    "    h, w = image.shape[:2]\n",
    "    new_width = int(w * (target_height / h))\n",
    "    resized = cv2.resize(image, (new_width, target_height))\n",
    "    return resized\n",
    "\n",
    "# --- Worker Function ---\n",
    "\n",
    "def download_resize_save(row):\n",
    "    url = row['publicURL']\n",
    "    filename = f\"{row['mediaID']}.jpg\"\n",
    "    out_path = image_dir / filename\n",
    "\n",
    "    if out_path.exists():\n",
    "        return (url, True, \"Already exists\")\n",
    "\n",
    "    try:\n",
    "        resp = requests.get(url, timeout=10)\n",
    "        resp.raise_for_status()\n",
    "\n",
    "        img_array = np.frombuffer(resp.content, np.uint8)\n",
    "        img = cv2.imdecode(img_array, cv2.IMREAD_COLOR)\n",
    "\n",
    "        if img is None:\n",
    "            return (url, False, \"Failed to decode\")\n",
    "\n",
    "        # Resize\n",
    "        img = resize_keep_aspect_ratio(img, TARGET_HEIGHT)\n",
    "        cv2.imwrite(str(out_path), img)\n",
    "        return (url, True, \"Success\")\n",
    "\n",
    "    except Exception as e:\n",
    "        print(f\"❌ Error processing {url}: {e}\")\n",
    "        return (url, False, str(e))\n",
    "\n",
    "# --- Run Parallel ---\n",
    "\n",
    "MAX_WORKERS = 16  # Tune based on Kaggle resources, maybe 8-16\n",
    "\n",
    "results = []\n",
    "with ThreadPoolExecutor(max_workers=MAX_WORKERS) as executor:\n",
    "    futures = {executor.submit(download_resize_save, row): row for row in rows}\n",
    "    for f in tqdm(as_completed(futures), total=len(futures)):\n",
    "        res = f.result()\n",
    "        results.append(res)\n",
    "\n",
    "# --- Summary ---\n",
    "\n",
    "success_count = sum(1 for _, success, _ in results if success)\n",
    "fail_count = len(results) - success_count\n",
    "\n",
    "print(f\"✅ Success: {success_count}\")\n",
    "print(f\"❌ Failed: {fail_count}\")"
   ]
  },
  {
   "cell_type": "code",
   "execution_count": 6,
   "id": "32c528a8",
   "metadata": {
    "execution": {
     "iopub.execute_input": "2025-06-23T15:31:03.907298Z",
     "iopub.status.busy": "2025-06-23T15:31:03.907079Z",
     "iopub.status.idle": "2025-06-23T15:31:46.927143Z",
     "shell.execute_reply": "2025-06-23T15:31:46.926207Z"
    },
    "papermill": {
     "duration": 43.025343,
     "end_time": "2025-06-23T15:31:46.928622",
     "exception": false,
     "start_time": "2025-06-23T15:31:03.903279",
     "status": "completed"
    },
    "tags": []
   },
   "outputs": [
    {
     "name": "stdout",
     "output_type": "stream",
     "text": [
      "100 image files found in the input directory\r\n",
      "The checkpoint file will be written to /kaggle/working/md_checkpoint.json\r\n",
      "PyTorch reports 1 available CUDA devices\r\n",
      "GPU available: True\r\n",
      "2025-06-23 15:31:17.250557: E external/local_xla/xla/stream_executor/cuda/cuda_fft.cc:477] Unable to register cuFFT factory: Attempting to register factory for plugin cuFFT when one has already been registered\r\n",
      "WARNING: All log messages before absl::InitializeLog() is called are written to STDERR\r\n",
      "E0000 00:00:1750692677.445662     126 cuda_dnn.cc:8310] Unable to register cuDNN factory: Attempting to register factory for plugin cuDNN when one has already been registered\r\n",
      "E0000 00:00:1750692677.499418     126 cuda_blas.cc:1418] Unable to register cuBLAS factory: Attempting to register factory for plugin cuBLAS when one has already been registered\r\n",
      "Loading PT detector with compatibility mode classic\r\n",
      "Fusing layers... \r\n",
      "Model summary: 733 layers, 140054656 parameters, 0 gradients, 208.8 GFLOPs\r\n",
      "Loaded model in 26.84 seconds\r\n",
      "100%|█████████████████████████████████████████| 100/100 [00:10<00:00,  9.88it/s]\r\n",
      "Finished inference for 100 images in 39.95 seconds (2.50 images per second)\r\n",
      "Output file saved at /kaggle/working/test_output.json\r\n",
      "Done, thanks for MegaDetect'ing!\r\n"
     ]
    }
   ],
   "source": [
    "# Try running from command line\n",
    "os.environ[\"WANDB_MODE\"] = \"disabled\"\n",
    "\n",
    "!python -m megadetector.detection.run_detector_batch \\\n",
    "    \"/kaggle/input/megadetector/pytorch/mdv5a/1/md_v5a.0.0.pt\" \\\n",
    "    \"/kaggle/working/images\" \\\n",
    "    \"/kaggle/working/test_output.json\" \\\n",
    "    --output_relative_filenames \\\n",
    "    --threshold 0.1 \\\n",
    "    --checkpoint_frequency 10000 \\\n",
    "    --checkpoint_path \"/kaggle/working/md_checkpoint.json\" \\\n",
    "    --quiet\n",
    "    # --previous_results_file \"/kaggle/working/test_output.json\"\n",
    "    # --resume_from_checkpoint /kaggle/working/md_checkpoint.json  # Uncomment if resuming"
   ]
  }
 ],
 "metadata": {
  "kaggle": {
   "accelerator": "gpu",
   "dataSources": [
    {
     "isSourceIdPinned": false,
     "modelId": 249746,
     "modelInstanceId": 227972,
     "sourceId": 266421,
     "sourceType": "modelInstanceVersion"
    }
   ],
   "dockerImageVersionId": 31040,
   "isGpuEnabled": true,
   "isInternetEnabled": true,
   "language": "python",
   "sourceType": "notebook"
  },
  "kernelspec": {
   "display_name": "Python 3",
   "language": "python",
   "name": "python3"
  },
  "language_info": {
   "codemirror_mode": {
    "name": "ipython",
    "version": 3
   },
   "file_extension": ".py",
   "mimetype": "text/x-python",
   "name": "python",
   "nbconvert_exporter": "python",
   "pygments_lexer": "ipython3",
   "version": "3.11.11"
  },
  "papermill": {
   "default_parameters": {},
   "duration": 187.539047,
   "end_time": "2025-06-23T15:31:47.954002",
   "environment_variables": {},
   "exception": null,
   "input_path": "__notebook__.ipynb",
   "output_path": "__notebook__.ipynb",
   "parameters": {},
   "start_time": "2025-06-23T15:28:40.414955",
   "version": "2.6.0"
  }
 },
 "nbformat": 4,
 "nbformat_minor": 5
}
