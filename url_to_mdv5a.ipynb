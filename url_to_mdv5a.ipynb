{
 "cells": [
  {
   "cell_type": "markdown",
   "id": "8e2dab8b",
   "metadata": {
    "papermill": {
     "duration": 0.002178,
     "end_time": "2025-06-23T15:19:50.675130",
     "exception": false,
     "start_time": "2025-06-23T15:19:50.672952",
     "status": "completed"
    },
    "tags": []
   },
   "source": [
    "# Example Notebook of Running 100 images through megadetector only\n",
    "https://pypi.org/project/megadetector/  \n",
    "\n",
    "The model is not any faster than running speciesnet as an ensemble.  \n",
    "This is more of a proof of concept for 'what if we ran MD only?'"
   ]
  },
  {
   "cell_type": "code",
   "execution_count": 1,
   "id": "c6e6286f",
   "metadata": {
    "execution": {
     "iopub.execute_input": "2025-06-23T15:19:50.679416Z",
     "iopub.status.busy": "2025-06-23T15:19:50.679201Z",
     "iopub.status.idle": "2025-06-23T15:19:50.685726Z",
     "shell.execute_reply": "2025-06-23T15:19:50.685031Z"
    },
    "papermill": {
     "duration": 0.009971,
     "end_time": "2025-06-23T15:19:50.686907",
     "exception": false,
     "start_time": "2025-06-23T15:19:50.676936",
     "status": "completed"
    },
    "tags": []
   },
   "outputs": [
    {
     "name": "stdout",
     "output_type": "stream",
     "text": [
      "=== Warnings Ignored ===\n"
     ]
    }
   ],
   "source": [
    "# Hush ye annoyances\n",
    "import warnings\n",
    "warnings.filterwarnings('ignore')\n",
    "print(\"=== Warnings Ignored ===\")"
   ]
  },
  {
   "cell_type": "code",
   "execution_count": 2,
   "id": "e42828c8",
   "metadata": {
    "execution": {
     "iopub.execute_input": "2025-06-23T15:19:50.691067Z",
     "iopub.status.busy": "2025-06-23T15:19:50.690653Z",
     "iopub.status.idle": "2025-06-23T15:21:54.373434Z",
     "shell.execute_reply": "2025-06-23T15:21:54.372497Z"
    },
    "papermill": {
     "duration": 123.690272,
     "end_time": "2025-06-23T15:21:54.378868",
     "exception": false,
     "start_time": "2025-06-23T15:19:50.688596",
     "status": "completed"
    },
    "tags": []
   },
   "outputs": [
    {
     "name": "stdout",
     "output_type": "stream",
     "text": [
      "=== MegaDetector Installed ===\n",
      "CPU times: user 1.2 s, sys: 299 ms, total: 1.5 s\n",
      "Wall time: 2min 3s\n"
     ]
    }
   ],
   "source": [
    "%%time\n",
    "# Single dependency library\n",
    "!pip install --quiet megadetector > /dev/null 2>&1 # Put thy annoyances elsewhere\n",
    "print(\"=== MegaDetector Installed ===\")"
   ]
  },
  {
   "cell_type": "code",
   "execution_count": 3,
   "id": "2e33b1b5",
   "metadata": {
    "execution": {
     "iopub.execute_input": "2025-06-23T15:21:54.384234Z",
     "iopub.status.busy": "2025-06-23T15:21:54.383574Z",
     "iopub.status.idle": "2025-06-23T15:21:56.840629Z",
     "shell.execute_reply": "2025-06-23T15:21:56.839813Z"
    },
    "papermill": {
     "duration": 2.461066,
     "end_time": "2025-06-23T15:21:56.841778",
     "exception": false,
     "start_time": "2025-06-23T15:21:54.380712",
     "status": "completed"
    },
    "tags": []
   },
   "outputs": [
    {
     "name": "stdout",
     "output_type": "stream",
     "text": [
      "=== Libraries Loaded ===\n"
     ]
    }
   ],
   "source": [
    "# Data Handling\n",
    "import pandas as pd\n",
    "import numpy as np\n",
    "\n",
    "# IO - getting files and images from MongoDB and S3\n",
    "from pymongo import MongoClient\n",
    "from kaggle_secrets import UserSecretsClient\n",
    "from pathlib import Path\n",
    "from tqdm import tqdm\n",
    "\n",
    "import os\n",
    "import re\n",
    "import shutil\n",
    "import json\n",
    "import time\n",
    "import requests\n",
    "\n",
    "# Image preprocessing and multithreading\n",
    "import cv2\n",
    "from concurrent.futures import ThreadPoolExecutor, as_completed\n",
    "\n",
    "# Megadetector\n",
    "from megadetector.utils import url_utils, path_utils\n",
    "from megadetector.visualization import visualization_utils as vis_utils\n",
    "from megadetector.detection.run_detector_batch import load_and_run_detector_batch, write_results_to_file\n",
    "\n",
    "# Pretty Views\n",
    "from IPython.display import display\n",
    "from IPython.display import JSON\n",
    "\n",
    "print(\"=== Libraries Loaded ===\")"
   ]
  },
  {
   "cell_type": "code",
   "execution_count": 4,
   "id": "b041fcad",
   "metadata": {
    "execution": {
     "iopub.execute_input": "2025-06-23T15:21:56.846431Z",
     "iopub.status.busy": "2025-06-23T15:21:56.846105Z",
     "iopub.status.idle": "2025-06-23T15:21:58.162614Z",
     "shell.execute_reply": "2025-06-23T15:21:58.161769Z"
    },
    "papermill": {
     "duration": 1.320188,
     "end_time": "2025-06-23T15:21:58.163893",
     "exception": false,
     "start_time": "2025-06-23T15:21:56.843705",
     "status": "completed"
    },
    "tags": []
   },
   "outputs": [
    {
     "name": "stdout",
     "output_type": "stream",
     "text": [
      "Loaded 100 image URLs\n"
     ]
    }
   ],
   "source": [
    "# Get the stored mongo uri secret\n",
    "user_secrets = UserSecretsClient()\n",
    "mongo_uri = user_secrets.get_secret(\"MONGO_URI\")\n",
    "\n",
    "# Connect to the MongoDB client\n",
    "client = MongoClient(mongo_uri)\n",
    " \n",
    "# Access the database and collection\n",
    "db = client['test']\n",
    "collection = db['cameratrapmedias'] \n",
    " \n",
    "# Pull only documents with publicURL\n",
    "cursor = collection.find({'publicURL': {'$exists': True}}, {'_id': 0, 'publicURL': 1, 'mediaID': 1}).limit(100)\n",
    "df = pd.DataFrame(list(cursor))\n",
    "\n",
    "# deduplicate the publicURLs by using the mediaID\n",
    "df = df.drop_duplicates(subset=['mediaID'], keep='first')\n",
    "\n",
    "# Return to rows\n",
    "rows = df.to_dict(orient='records')\n",
    "print(f\"Loaded {len(rows)} image URLs\")"
   ]
  },
  {
   "cell_type": "code",
   "execution_count": 5,
   "id": "e02f7c5c",
   "metadata": {
    "execution": {
     "iopub.execute_input": "2025-06-23T15:21:58.168818Z",
     "iopub.status.busy": "2025-06-23T15:21:58.168421Z",
     "iopub.status.idle": "2025-06-23T15:22:05.790681Z",
     "shell.execute_reply": "2025-06-23T15:22:05.789826Z"
    },
    "papermill": {
     "duration": 7.625908,
     "end_time": "2025-06-23T15:22:05.791864",
     "exception": false,
     "start_time": "2025-06-23T15:21:58.165956",
     "status": "completed"
    },
    "tags": []
   },
   "outputs": [
    {
     "name": "stderr",
     "output_type": "stream",
     "text": [
      "100%|██████████| 100/100 [00:07<00:00, 13.19it/s]"
     ]
    },
    {
     "name": "stdout",
     "output_type": "stream",
     "text": [
      "✅ Success: 100\n",
      "❌ Failed: 0\n",
      "CPU times: user 16.5 s, sys: 7.2 s, total: 23.7 s\n",
      "Wall time: 7.62 s\n"
     ]
    },
    {
     "name": "stderr",
     "output_type": "stream",
     "text": [
      "\n"
     ]
    }
   ],
   "source": [
    "%%time\n",
    "# planning to save all to working directory images with a resize\n",
    "image_dir = Path('images')\n",
    "image_dir.mkdir(parents=True, exist_ok=True)\n",
    "\n",
    "# Target Height\n",
    "TARGET_HEIGHT = 256\n",
    "\n",
    "# Resize Target\n",
    "def resize_keep_aspect_ratio(image, target_height):\n",
    "    h, w = image.shape[:2]\n",
    "    new_width = int(w * (target_height / h))\n",
    "    resized = cv2.resize(image, (new_width, target_height))\n",
    "    return resized\n",
    "\n",
    "# --- Worker Function ---\n",
    "\n",
    "def download_resize_save(row):\n",
    "    url = row['publicURL']\n",
    "    filename = f\"{row['mediaID']}.jpg\"\n",
    "    out_path = image_dir / filename\n",
    "\n",
    "    if out_path.exists():\n",
    "        return (url, True, \"Already exists\")\n",
    "\n",
    "    try:\n",
    "        resp = requests.get(url, timeout=10)\n",
    "        resp.raise_for_status()\n",
    "\n",
    "        img_array = np.frombuffer(resp.content, np.uint8)\n",
    "        img = cv2.imdecode(img_array, cv2.IMREAD_COLOR)\n",
    "\n",
    "        if img is None:\n",
    "            return (url, False, \"Failed to decode\")\n",
    "\n",
    "        # Resize\n",
    "        img = resize_keep_aspect_ratio(img, TARGET_HEIGHT)\n",
    "        cv2.imwrite(str(out_path), img)\n",
    "        return (url, True, \"Success\")\n",
    "\n",
    "    except Exception as e:\n",
    "        print(f\"❌ Error processing {url}: {e}\")\n",
    "        return (url, False, str(e))\n",
    "\n",
    "# --- Run Parallel ---\n",
    "\n",
    "MAX_WORKERS = 16  # Tune based on Kaggle resources, maybe 8-16\n",
    "\n",
    "results = []\n",
    "with ThreadPoolExecutor(max_workers=MAX_WORKERS) as executor:\n",
    "    futures = {executor.submit(download_resize_save, row): row for row in rows}\n",
    "    for f in tqdm(as_completed(futures), total=len(futures)):\n",
    "        res = f.result()\n",
    "        results.append(res)\n",
    "\n",
    "# --- Summary ---\n",
    "\n",
    "success_count = sum(1 for _, success, _ in results if success)\n",
    "fail_count = len(results) - success_count\n",
    "\n",
    "print(f\"✅ Success: {success_count}\")\n",
    "print(f\"❌ Failed: {fail_count}\")"
   ]
  },
  {
   "cell_type": "code",
   "execution_count": 6,
   "id": "ba6e8061",
   "metadata": {
    "execution": {
     "iopub.execute_input": "2025-06-23T15:22:05.799951Z",
     "iopub.status.busy": "2025-06-23T15:22:05.799704Z",
     "iopub.status.idle": "2025-06-23T15:22:06.488242Z",
     "shell.execute_reply": "2025-06-23T15:22:06.487260Z"
    },
    "papermill": {
     "duration": 0.694236,
     "end_time": "2025-06-23T15:22:06.489815",
     "exception": false,
     "start_time": "2025-06-23T15:22:05.795579",
     "status": "completed"
    },
    "tags": []
   },
   "outputs": [
    {
     "name": "stdout",
     "output_type": "stream",
     "text": [
      "100 image files found in the input directory\r\n",
      "Traceback (most recent call last):\r\n",
      "  File \"<frozen runpy>\", line 198, in _run_module_as_main\r\n",
      "  File \"<frozen runpy>\", line 88, in _run_code\r\n",
      "  File \"/usr/local/lib/python3.11/dist-packages/megadetector/detection/run_detector_batch.py\", line 1673, in <module>\r\n",
      "    main()\r\n",
      "  File \"/usr/local/lib/python3.11/dist-packages/megadetector/detection/run_detector_batch.py\", line 1540, in main\r\n",
      "    assert os.path.isfile(args.previous_results_file), \\\r\n",
      "           ^^^^^^^^^^^^^^^^^^^^^^^^^^^^^^^^^^^^^^^^^^\r\n",
      "AssertionError: Could not find previous results file /kaggle/working/test_output.json\r\n"
     ]
    }
   ],
   "source": [
    "# Try running from command line\n",
    "os.environ[\"WANDB_MODE\"] = \"disabled\"\n",
    "\n",
    "!python -m megadetector.detection.run_detector_batch \\\n",
    "    \"/kaggle/input/megadetector/pytorch/mdv5a/1/md_v5a.0.0.pt\" \\\n",
    "    \"/kaggle/working/images\" \\\n",
    "    \"/kaggle/working/test_output.json\" \\\n",
    "    --output_relative_filenames \\\n",
    "    --threshold 0.1 \\\n",
    "    --checkpoint_frequency 10000 \\\n",
    "    --checkpoint_path \"/kaggle/working/md_checkpoint.json\" \\\n",
    "    --quiet \\\n",
    "    --previous_results_file \"/kaggle/working/test_output.json\"\n",
    "    # --resume_from_checkpoint /kaggle/working/md_checkpoint.json  # Uncomment if resuming"
   ]
  }
 ],
 "metadata": {
  "kaggle": {
   "accelerator": "gpu",
   "dataSources": [
    {
     "isSourceIdPinned": false,
     "modelId": 249746,
     "modelInstanceId": 227972,
     "sourceId": 266421,
     "sourceType": "modelInstanceVersion"
    }
   ],
   "dockerImageVersionId": 31040,
   "isGpuEnabled": true,
   "isInternetEnabled": true,
   "language": "python",
   "sourceType": "notebook"
  },
  "kernelspec": {
   "display_name": "Python 3",
   "language": "python",
   "name": "python3"
  },
  "language_info": {
   "codemirror_mode": {
    "name": "ipython",
    "version": 3
   },
   "file_extension": ".py",
   "mimetype": "text/x-python",
   "name": "python",
   "nbconvert_exporter": "python",
   "pygments_lexer": "ipython3",
   "version": "3.11.11"
  },
  "papermill": {
   "default_parameters": {},
   "duration": 140.927132,
   "end_time": "2025-06-23T15:22:07.412796",
   "environment_variables": {},
   "exception": null,
   "input_path": "__notebook__.ipynb",
   "output_path": "__notebook__.ipynb",
   "parameters": {},
   "start_time": "2025-06-23T15:19:46.485664",
   "version": "2.6.0"
  }
 },
 "nbformat": 4,
 "nbformat_minor": 5
}
